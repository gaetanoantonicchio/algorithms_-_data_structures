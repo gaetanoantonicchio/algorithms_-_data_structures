{
 "cells": [
  {
   "cell_type": "code",
   "execution_count": null,
   "metadata": {
    "collapsed": true,
    "pycharm": {
     "name": "#%%\n"
    }
   },
   "outputs": [],
   "source": [
    "%matplotlib inline\n",
    "\n",
    "import numpy as np\n",
    "from random import randint\n",
    "import seaborn as sns"
   ]
  },
  {
   "cell_type": "markdown",
   "source": [
    "# 1. Insertion Sort\n",
    "## a) pseudo - code\n",
    "__for__ j = 2 __to__ A. length<br>\n",
    "$\\;\\;\\;$ key = A[ j ]<br>\n",
    "$\\;\\;\\;$__//__ insert A[ j ] into the sorted sequence A[ 1,... j-1 ]<br>\n",
    "$\\;\\;\\;$ i = j - 1<br>\n",
    "$\\;\\;\\;$ __while__ i > 0 and A[ i ] > key<br>\n",
    "$\\;\\;\\;\\;\\;\\;\\;\\;$ A[ i + 1] = A [i]<br>\n",
    "$\\;\\;\\;\\;\\;\\;\\;\\;$ i = i - 1<br>\n",
    "$\\;\\;\\;$ A[ i + 1 ] = A[ i ]"
   ],
   "metadata": {
    "collapsed": false,
    "pycharm": {
     "name": "#%% md\n"
    }
   }
  },
  {
   "cell_type": "code",
   "execution_count": null,
   "outputs": [],
   "source": [],
   "metadata": {
    "collapsed": false,
    "pycharm": {
     "name": "#%%\n"
    }
   }
  },
  {
   "cell_type": "code",
   "execution_count": null,
   "outputs": [],
   "source": [],
   "metadata": {
    "collapsed": false,
    "pycharm": {
     "name": "#%%\n"
    }
   }
  }
 ],
 "metadata": {
  "kernelspec": {
   "display_name": "Python 3",
   "language": "python",
   "name": "python3"
  },
  "language_info": {
   "codemirror_mode": {
    "name": "ipython",
    "version": 2
   },
   "file_extension": ".py",
   "mimetype": "text/x-python",
   "name": "python",
   "nbconvert_exporter": "python",
   "pygments_lexer": "ipython2",
   "version": "2.7.6"
  }
 },
 "nbformat": 4,
 "nbformat_minor": 0
}