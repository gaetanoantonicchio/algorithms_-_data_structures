{
 "cells": [
  {
   "cell_type": "code",
   "execution_count": 14,
   "metadata": {
    "pycharm": {
     "name": "#%%\n"
    }
   },
   "outputs": [],
   "source": [
    "%matplotlib inline\n",
    "from sorting_algorithms import insertion_sort\n",
    "from time import time\n",
    "import numpy as np\n",
    "from random import randint\n",
    "import seaborn as sns\n",
    "import matplotlib.pyplot as plt\n",
    "from tqdm import tqdm"
   ]
  },
  {
   "cell_type": "markdown",
   "metadata": {
    "pycharm": {
     "name": "#%% md\n"
    }
   },
   "source": [
    "# 1. Insertion Sort\n",
    "## a) pseudo - code\n",
    "__for__ j = 2 __to__ A. length<br>\n",
    "$\\;\\;\\;$ key = A[ j ]<br>\n",
    "$\\;\\;\\;$__//__ insert A[ j ] into the sorted sequence A[ 1,... j-1 ]<br>\n",
    "$\\;\\;\\;$ i = j - 1<br>\n",
    "$\\;\\;\\;$ __while__ i > 0 and A[ i ] > key<br>\n",
    "$\\;\\;\\;\\;\\;\\;\\;\\;$ A[ i + 1] = A [i]<br>\n",
    "$\\;\\;\\;\\;\\;\\;\\;\\;$ i = i - 1<br>\n",
    "$\\;\\;\\;$ A[ i + 1 ] = A[ i ]"
   ]
  },
  {
   "cell_type": "markdown",
   "metadata": {
    "pycharm": {
     "name": "#%% md\n"
    }
   },
   "source": [
    "### b) Analysing Time Complexity of Insertion Sort"
   ]
  },
  {
   "cell_type": "code",
   "execution_count": 15,
   "metadata": {
    "pycharm": {
     "name": "#%%\n"
    }
   },
   "outputs": [
    {
     "name": "stderr",
     "output_type": "stream",
     "text": [
      "100%|██████████| 10/10 [00:20<00:00,  2.04s/it]\n"
     ]
    },
    {
     "data": {
      "text/plain": "<Figure size 432x288 with 1 Axes>",
      "image/png": "[encoded data removed]"
     },
     "metadata": {
      "needs_background": "light"
     },
     "output_type": "display_data"
    }
   ],
   "source": [
    "x_axis =[] # array sizes\n",
    "y_axis = [] # time(ms)\n",
    "\n",
    "for k in tqdm(range(1,100,10)):\n",
    "    start_time = time()\n",
    "    insertion_sort([randint(1,1000) for x in range(k*100)])\n",
    "    end_time = (time() - start_time)\n",
    "\n",
    "    x_axis.append(k*100)\n",
    "    y_axis.append(end_time)\n",
    "\n",
    "# plot time complexity curve\n",
    "plt.plot(x_axis,y_axis, marker='o')\n",
    "plt.title('Time complexity - Insertion sort')\n",
    "plt.xlabel('array size')\n",
    "plt.ylabel(\"time(s)\")\n",
    "plt.show()"
   ]
  },
  {
   "cell_type": "code",
   "execution_count": 15,
   "metadata": {
    "pycharm": {
     "name": "#%%\n"
    }
   },
   "outputs": [],
   "source": []
  }
 ],
 "metadata": {
  "kernelspec": {
   "display_name": "Python 3",
   "language": "python",
   "name": "python3"
  },
  "language_info": {
   "codemirror_mode": {
    "name": "ipython",
    "version": 3
   },
   "file_extension": ".py",
   "mimetype": "text/x-python",
   "name": "python",
   "nbconvert_exporter": "python",
   "pygments_lexer": "ipython3",
   "version": "3.8.1"
  }
 },
 "nbformat": 4,
 "nbformat_minor": 1
}