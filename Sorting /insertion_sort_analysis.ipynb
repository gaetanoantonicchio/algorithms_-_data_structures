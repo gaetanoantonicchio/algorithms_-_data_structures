{
 "cells": [
  {
   "cell_type": "code",
   "execution_count": 1,
   "metadata": {
    "pycharm": {
     "name": "#%%\n"
    }
   },
   "outputs": [],
   "source": [
    "%matplotlib inline\n",
    "from sorting_algorithms import insertion_sort, selection_sort\n",
    "from time import time\n",
    "import numpy as np\n",
    "from random import randint\n",
    "import seaborn as sns\n",
    "import matplotlib.pyplot as plt\n",
    "from tqdm import tqdm"
   ]
  },
  {
   "cell_type": "markdown",
   "metadata": {
    "pycharm": {
     "name": "#%% md\n"
    }
   },
   "source": [
    "# 1. Insertion Sort\n",
    "## a) pseudo - code\n",
    "__for__ j = 2 __to__ A. length<br>\n",
    "$\\;\\;\\;$ key = A[ j ]<br>\n",
    "$\\;\\;\\;$__//__ insert A[ j ] into the sorted sequence A[ 1,... j-1 ]<br>\n",
    "$\\;\\;\\;$ i = j - 1<br>\n",
    "$\\;\\;\\;$ __while__ i > 0 and A[ i ] > key<br>\n",
    "$\\;\\;\\;\\;\\;\\;\\;\\;$ A[ i + 1] = A [i]<br>\n",
    "$\\;\\;\\;\\;\\;\\;\\;\\;$ i = i - 1<br>\n",
    "$\\;\\;\\;$ A[ i + 1 ] = A[ i ]\n",
    "<br>\n",
    "<br>\n",
    "### Properties<br>\n",
    "- __In-place__:$\\;\\;$The input and output occupy the same memory storage space.\n",
    "There is no copying of input to output, and the input ceases to exist unless you have made a backup copy.<br>\n",
    "- __Stable__:$\\;\\;$A stable sort is one that, for elements that compare equal,\n",
    " their relative position in the sorted output is guaranteed to be the same as in the source.\n",
    " Contrast this with an unstable sort, in which items that compare equal will appear in the sorted result\n",
    "  in an unpredictable order.\n",
    "- __Online__:$\\;\\;$It can sort an array when it receives it.<br>\n",
    "- __Adaptive__:$\\;\\;$ Insertion Sort is adaptive, that means it reduces its total number of steps if given\n",
    " a partially sorted list, hence it increases its efficiency. <br>\n",
    "-------------------\n",
    "##### It is efficient for smaller data sets, but very inefficient for larger lists.\n",
    "------------------\n",
    "### Time Complexity<br>\n",
    "- __Best Case__:$\\;\\;$ ⊖($n$)$\\;$ -$\\;$ input is an array already sorted\n",
    "- __Average Case__:$\\;\\;$ ⊖($n^2$)\n",
    "- __Worst Case__:$\\;\\;$ ⊖($n^2$)$\\;$ - $\\;$input is an array sorted in reverse order"
   ]
  },
  {
   "cell_type": "markdown",
   "metadata": {
    "pycharm": {
     "name": "#%% md\n"
    }
   },
   "source": [
    "### b) Analysing Time Complexity of Insertion Sort"
   ]
  },
  {
   "cell_type": "code",
   "execution_count": 2,
   "metadata": {
    "pycharm": {
     "name": "#%%\n"
    }
   },
   "outputs": [
    {
     "name": "stderr",
     "output_type": "stream",
     "text": [
      "100%|██████████| 20/20 [02:38<00:00,  7.92s/it]\n",
      "100%|██████████| 20/20 [02:11<00:00,  6.59s/it]\n",
      "100%|██████████| 20/20 [01:54<00:00,  5.75s/it]\n"
     ]
    },
    {
     "data": {
      "text/plain": "<Figure size 432x288 with 1 Axes>",
      "image/png": "[encoded data removed]"
     },
     "metadata": {
      "needs_background": "light"
     },
     "output_type": "display_data"
    }
   ],
   "source": [
    "x_best =[]\n",
    "y_best = []\n",
    "x_worst = []\n",
    "y_worst = []\n",
    "x_avg = []\n",
    "y_avg = []\n",
    "\n",
    "def random_list(L, num_lst=, init_size=, size_increment=  ,range=()):\n",
    "    for num in num_lst:\n",
    "        L = [randint() for x in range()]\n",
    "        \n",
    "\n",
    "for k in tqdm(range(1,200,10)):\n",
    "    start_time = time()\n",
    "    insertion_sort([randint(1,100) for x in range(1,k*100)])\n",
    "    end_time = (time() - start_time)\n",
    "\n",
    "    x_avg.append(k*100)\n",
    "    y_avg.append(end_time)\n",
    "\n",
    "# worst case\n",
    "for k in tqdm(range(1,200,10)):\n",
    "    start_time = time()\n",
    "    selection_sort([x for x in range(k*100,-1,-1)])\n",
    "    end_time = (time() - start_time)\n",
    "\n",
    "    x_worst.append(k*100)\n",
    "    y_worst.append(end_time)\n",
    "\n",
    "# best case\n",
    "for k in tqdm(range(1,200,10)):\n",
    "    start_time = time()\n",
    "    selection_sort([x for x in range(1, k*100)])\n",
    "    end_time = (time() - start_time)\n",
    "\n",
    "    x_best.append(k*100)\n",
    "    y_best.append(end_time)\n",
    "\n",
    "# plot time complexity curve\n",
    "plt.plot(x_worst,y_worst,color='blue', label='worst case') # wrost case\n",
    "plt.plot(x_best,y_best, color='orange',label='best case') # best case\n",
    "plt.plot(x_avg,y_avg,color='red', label='avg case') # avg case\n",
    "plt.title('Insertion sort runtime: best, average and worst case')\n",
    "plt.legend()\n",
    "plt.xlabel('number of elements n')\n",
    "plt.ylabel(\"time(seconds)\")\n",
    "plt.show()"
   ]
  },
  {
   "cell_type": "code",
   "execution_count": 2,
   "metadata": {
    "pycharm": {
     "name": "#%%\n"
    }
   },
   "outputs": [],
   "source": []
  }
 ],
 "metadata": {
  "kernelspec": {
   "display_name": "Python 3",
   "language": "python",
   "name": "python3"
  },
  "language_info": {
   "codemirror_mode": {
    "name": "ipython",
    "version": 3
   },
   "file_extension": ".py",
   "mimetype": "text/x-python",
   "name": "python",
   "nbconvert_exporter": "python",
   "pygments_lexer": "ipython3",
   "version": "3.8.1"
  }
 },
 "nbformat": 4,
 "nbformat_minor": 1
}