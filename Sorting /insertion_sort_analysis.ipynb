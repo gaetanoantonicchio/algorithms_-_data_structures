{
 "cells": [
  {
   "cell_type": "code",
   "execution_count": 14,
   "metadata": {
    "pycharm": {
     "name": "#%%\n"
    }
   },
   "outputs": [],
   "source": [
    "%matplotlib inline\n",
    "from insertion_sort import *\n",
    "from time import time\n",
    "import numpy as np\n",
    "from random import randint\n",
    "import seaborn as sns\n",
    "import matplotlib.pyplot as plt\n",
    "from tqdm import tqdm"
   ]
  },
  {
   "cell_type": "markdown",
   "metadata": {
    "pycharm": {
     "name": "#%% md\n"
    }
   },
   "source": [
    "# 1. Insertion Sort\n",
    "## a) pseudo - code\n",
    "__for__ j = 2 __to__ A. length<br>\n",
    "$\\;\\;\\;$ key = A[ j ]<br>\n",
    "$\\;\\;\\;$__//__ insert A[ j ] into the sorted sequence A[ 1,... j-1 ]<br>\n",
    "$\\;\\;\\;$ i = j - 1<br>\n",
    "$\\;\\;\\;$ __while__ i > 0 and A[ i ] > key<br>\n",
    "$\\;\\;\\;\\;\\;\\;\\;\\;$ A[ i + 1] = A [i]<br>\n",
    "$\\;\\;\\;\\;\\;\\;\\;\\;$ i = i - 1<br>\n",
    "$\\;\\;\\;$ A[ i + 1 ] = A[ i ]\n",
    "<br>\n",
    "<br>\n",
    "### Correctness (and loop invariant)\n",
    "__Loop invariant__: it's a property that holds for a loop.\n",
    "1. __initialization__: Property that holds before the loop starts.\n",
    "2. __maintenance__: Property that is preserved by loop iterations.\n",
    "3. __termination__: Property that holds after the loop terminates (it helps to prove correctness)\n",
    "\n",
    "#### Analysing Loop invariant\n",
    "1. <span style=\"color:red\">initialization</span>:<br>\n",
    "At the start of each iteration (say __j__), the subarray **A[ 1, j-1 ]** consists of just\n",
    "one single element **A[1]**. This subarray is **sorted** (trivially).<br>\n",
    "2. <span style=\"color:red\">maintenance</span>:<br>\n",
    "The body of the **for loop** works by moving **A[ j - 1]**,**A[ j - 2]**,**...** by one position to the right until\n",
    "it finds the proper position for **A[j]**.<br>\n",
    "The subarray **A[ 1 ... j ]** consists of the elements in **A[ 1 ... j]** but **sorted**.<br>\n",
    "3. <span style=\"color:red\">termination</span>:<br>\n",
    "The condition causing the for loop to terminate is **j > A.length = n**.<br>\n",
    "At each iteration **j** is increased by 1, then at one point we will have **j = n + 1**.\n",
    "Substituting **n + 1** for j in the wording of loop invariant, we have that the\n",
    "subarray **A[ 1 .. n ]** consists of the elements originally in **A[ 1 .. n ]**, but in sorted\n",
    "order.\n",
    "\n",
    "\n",
    "### Properties<br>\n",
    "- __In-place__:$\\;\\;$The input and output occupy the same memory storage space.\n",
    "There is no copying of input to output, and the input ceases to exist unless you have made a backup copy.<br>\n",
    "- __Stable__:$\\;\\;$A stable sort is one that, for elements that compare equal,\n",
    " their relative position in the sorted output is guaranteed to be the same as in the source.\n",
    " Contrast this with an unstable sort, in which items that compare equal will appear in the sorted result\n",
    "  in an unpredictable order.\n",
    "- __Online__:$\\;\\;$It can sort an array when it receives it.<br>\n",
    "- __Adaptive__:$\\;\\;$ Insertion Sort is adaptive, that means it reduces its total number of steps if given\n",
    " a partially sorted list, hence it increases its efficiency. <br>\n",
    "-------------------\n",
    "##### It is efficient for smaller data sets, but very inefficient for larger lists.\n",
    "------------------\n",
    "### Time Complexity<br>\n",
    "- __Best Case__:$\\;\\;$ ⊖($n$)$\\;$ -$\\;$ input is an array already sorted\n",
    "- __Average Case__:$\\;\\;$ ⊖($n^2$)$\\;$ -$\\;$ input is an unsorted array\n",
    "- __Worst Case__:$\\;\\;$ ⊖($n^2$)$\\;$ - $\\;$input is an array sorted in reverse order"
   ]
  },
  {
   "cell_type": "markdown",
   "metadata": {
    "pycharm": {
     "name": "#%% md\n"
    }
   },
   "source": [
    "### b) Analysing Time Complexity of Insertion Sort"
   ]
  },
  {
   "cell_type": "code",
   "execution_count": 15,
   "metadata": {
    "pycharm": {
     "name": "#%%\n"
    }
   },
   "outputs": [
    {
     "data": {
      "text/plain": "<Figure size 432x288 with 1 Axes>",
      "image/png": "[encoded data removed]"
     },
     "metadata": {
      "needs_background": "light"
     },
     "output_type": "display_data"
    }
   ],
   "source": [
    "sorted_lists = SortedLists(num_lst=30,init_size=100,size_increment=100)\n",
    "reverse_sorted_lists = SortedLists(num_lst=30,init_size=100, size_increment=100,reverse=True)\n",
    "unsorted_lists = RandomLists(num_lst=30,init_size=100,size_increment=100)\n",
    "\n",
    "test_IS(sorted_lists,reverse_sorted_lists,unsorted_lists)\n",
    "\n"
   ]
  }
 ],
 "metadata": {
  "kernelspec": {
   "display_name": "Python 3",
   "language": "python",
   "name": "python3"
  },
  "language_info": {
   "codemirror_mode": {
    "name": "ipython",
    "version": 3
   },
   "file_extension": ".py",
   "mimetype": "text/x-python",
   "name": "python",
   "nbconvert_exporter": "python",
   "pygments_lexer": "ipython3",
   "version": "3.8.1"
  }
 },
 "nbformat": 4,
 "nbformat_minor": 1
}